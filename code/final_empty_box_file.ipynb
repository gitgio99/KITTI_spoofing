{
 "cells": [
  {
   "cell_type": "markdown",
   "metadata": {},
   "source": [
    "### 1. 필요한 라이브러리 및 함수 정의"
   ]
  },
  {
   "cell_type": "code",
   "execution_count": 9,
   "metadata": {},
   "outputs": [],
   "source": [
    "import os\n",
    "import numpy as np\n",
    "import open3d as o3d\n",
    "\n",
    "# .bin 파일 읽기 함수\n",
    "def load_bin_file(file_path):\n",
    "    point_cloud = np.fromfile(file_path, dtype=np.float32).reshape(-1, 4)\n",
    "    return point_cloud\n",
    "\n",
    "# Calibration 파일에서 필요한 변환 행렬을 읽는 함수\n",
    "def load_calibration(calib_path):\n",
    "    with open(calib_path, 'r') as f:\n",
    "        lines = f.readlines()\n",
    "    \n",
    "    def extract_matrix(line):\n",
    "        return np.array(line.strip().split()[1:], dtype=np.float32).reshape(3, 4)\n",
    "    \n",
    "    Tr_velo_to_cam = extract_matrix(lines[5])  # Assuming line 6 contains Tr_velo_to_cam\n",
    "    R0_rect = np.array(lines[4].strip().split()[1:], dtype=np.float32).reshape(3, 3)  # Assuming line 5 contains R0_rect\n",
    "    \n",
    "    Tr_velo_to_cam = np.vstack((Tr_velo_to_cam, [0, 0, 0, 1]))\n",
    "    return Tr_velo_to_cam, R0_rect\n",
    "\n",
    "# 변환 행렬의 역변환 계산 함수\n",
    "def inverse_transformation(Tr):\n",
    "    Tr_inv = np.zeros_like(Tr)\n",
    "    Tr_inv[:3, :3] = Tr[:3, :3].T\n",
    "    Tr_inv[:3, 3] = -Tr[:3, :3].T @ Tr[:3, 3]\n",
    "    Tr_inv[3, 3] = 1\n",
    "    return Tr_inv\n",
    "\n",
    "# label_2 파일에서 3D bounding box를 파싱하는 함수\n",
    "def parse_label_file(label_path):\n",
    "    boxes = []\n",
    "    with open(label_path, 'r') as f:\n",
    "        for line in f:\n",
    "            elements = line.strip().split()\n",
    "            obj_type = elements[0]\n",
    "            if obj_type == 'DontCare':\n",
    "                continue\n",
    "\n",
    "            height, length, width = map(float, elements[8:11])\n",
    "            x, y, z = map(float, elements[11:14])\n",
    "            rotation_y = float(elements[14])\n",
    "            \n",
    "            boxes.append((obj_type, x, y, z, length, width, height, rotation_y))\n",
    "    return boxes\n",
    "\n",
    "# 특정 bounding box를 제외한 포인트 필터링 함수\n",
    "def filter_points_outside_boxes(points, boxes, Tr_cam_to_velo, R0_rect_4x4, scale_factor=1.8):\n",
    "    mask = np.ones(points.shape[0], dtype=bool)\n",
    "    \n",
    "    for box in boxes:\n",
    "        _, x, y, z, length, width, height, rotation_y = box\n",
    "        \n",
    "        length *= scale_factor\n",
    "        width *= scale_factor\n",
    "        height *= scale_factor\n",
    "        \n",
    "        center_cam = np.array([x, y, z, 1])\n",
    "        center_lidar = Tr_cam_to_velo @ R0_rect_4x4 @ center_cam\n",
    "        \n",
    "        rotation_matrix = np.array([\n",
    "            [np.cos(rotation_y), -np.sin(rotation_y)],\n",
    "            [np.sin(rotation_y), np.cos(rotation_y)]\n",
    "        ])\n",
    "        \n",
    "        points_xy = points[:, :2] - np.array([center_lidar[0], center_lidar[1]])\n",
    "        points_xy_rotated = points_xy @ rotation_matrix.T\n",
    "        \n",
    "        mask_x = np.abs(points_xy_rotated[:, 0]) <= length / 2\n",
    "        mask_y = np.abs(points_xy_rotated[:, 1]) <= width / 2\n",
    "        mask_z = (points[:, 2] >= center_lidar[2]) & (points[:, 2] <= center_lidar[2] + height)\n",
    "        \n",
    "        mask &= ~(mask_x & mask_y & mask_z)\n",
    "    \n",
    "    filtered_points = points[mask]\n",
    "    return filtered_points\n",
    "\n",
    "# .bin 파일 저장 함수\n",
    "def save_bin_file(file_path, points):\n",
    "    points.astype(np.float32).tofile(file_path)\n",
    "    print(f\"Saved file: {file_path}\")\n"
   ]
  },
  {
   "cell_type": "markdown",
   "metadata": {},
   "source": [
    "### 2. 파일 처리 및 디렉토리 구조 생성"
   ]
  },
  {
   "cell_type": "code",
   "execution_count": 10,
   "metadata": {},
   "outputs": [],
   "source": [
    "def process_and_save_filtered_data(file_name, velo_dir, label_dir, calib_dir, output_dir, scale_factor=1.8):\n",
    "    # 파일 경로 설정\n",
    "    velo_file = os.path.join(velo_dir, f\"{file_name}.bin\")\n",
    "    label_file = os.path.join(label_dir, f\"{file_name}.txt\")\n",
    "    calib_file = os.path.join(calib_dir, f\"{file_name}.txt\")\n",
    "\n",
    "    # 데이터 로드\n",
    "    points = load_bin_file(velo_file)\n",
    "    boxes = parse_label_file(label_file)\n",
    "    Tr_velo_to_cam, R0_rect = load_calibration(calib_file)\n",
    "    Tr_cam_to_velo = inverse_transformation(Tr_velo_to_cam)\n",
    "    R0_rect_4x4 = np.vstack((np.hstack((R0_rect, np.zeros((3, 1)))), [0, 0, 0, 1]))\n",
    "\n",
    "    # 출력 디렉토리 생성\n",
    "    file_output_dir = os.path.join(output_dir, file_name)\n",
    "    if not os.path.exists(file_output_dir):\n",
    "        os.makedirs(file_output_dir)\n",
    "\n",
    "    # 각 bounding box 제거 후 데이터 저장\n",
    "    for i, box in enumerate(boxes):\n",
    "        filtered_points = filter_points_outside_boxes(points, [box], Tr_cam_to_velo, R0_rect_4x4, scale_factor=scale_factor)\n",
    "        output_file_path = os.path.join(file_output_dir, f\"{file_name}-{i + 1}.bin\")\n",
    "        save_bin_file(output_file_path, filtered_points)\n"
   ]
  },
  {
   "cell_type": "markdown",
   "metadata": {},
   "source": [
    "### 3. 메인코드 실행"
   ]
  },
  {
   "cell_type": "markdown",
   "metadata": {},
   "source": [
    "object파일 실행시"
   ]
  },
  {
   "cell_type": "code",
   "execution_count": null,
   "metadata": {},
   "outputs": [
    {
     "ename": "FileNotFoundError",
     "evalue": "[Errno 2] No such file or directory: '/media/ssd3/lab/sypark/KITTI/object/2d_object/data_object_label_2/testing/label_2/000000.txt'",
     "output_type": "error",
     "traceback": [
      "\u001b[0;31m---------------------------------------------------------------------------\u001b[0m",
      "\u001b[0;31mFileNotFoundError\u001b[0m                         Traceback (most recent call last)",
      "\u001b[0;32m/tmp/ipykernel_3636989/2611242527.py\u001b[0m in \u001b[0;36m<module>\u001b[0;34m\u001b[0m\n\u001b[1;32m     22\u001b[0m \u001b[0;31m# 각 파일 처리\u001b[0m\u001b[0;34m\u001b[0m\u001b[0;34m\u001b[0m\u001b[0;34m\u001b[0m\u001b[0m\n\u001b[1;32m     23\u001b[0m \u001b[0;32mfor\u001b[0m \u001b[0mfile_name\u001b[0m \u001b[0;32min\u001b[0m \u001b[0mfile_names\u001b[0m\u001b[0;34m:\u001b[0m\u001b[0;34m\u001b[0m\u001b[0;34m\u001b[0m\u001b[0m\n\u001b[0;32m---> 24\u001b[0;31m     \u001b[0mprocess_and_save_filtered_data\u001b[0m\u001b[0;34m(\u001b[0m\u001b[0mfile_name\u001b[0m\u001b[0;34m,\u001b[0m \u001b[0mvelo_dir\u001b[0m\u001b[0;34m,\u001b[0m \u001b[0mlabel_dir\u001b[0m\u001b[0;34m,\u001b[0m \u001b[0mcalib_dir\u001b[0m\u001b[0;34m,\u001b[0m \u001b[0moutput_dir\u001b[0m\u001b[0;34m,\u001b[0m \u001b[0mscale_factor\u001b[0m\u001b[0;34m=\u001b[0m\u001b[0;36m2.0\u001b[0m\u001b[0;34m)\u001b[0m\u001b[0;34m\u001b[0m\u001b[0;34m\u001b[0m\u001b[0m\n\u001b[0m",
      "\u001b[0;32m/tmp/ipykernel_3636989/2470131523.py\u001b[0m in \u001b[0;36mprocess_and_save_filtered_data\u001b[0;34m(file_name, velo_dir, label_dir, calib_dir, output_dir, scale_factor)\u001b[0m\n\u001b[1;32m      7\u001b[0m     \u001b[0;31m# 데이터 로드\u001b[0m\u001b[0;34m\u001b[0m\u001b[0;34m\u001b[0m\u001b[0;34m\u001b[0m\u001b[0m\n\u001b[1;32m      8\u001b[0m     \u001b[0mpoints\u001b[0m \u001b[0;34m=\u001b[0m \u001b[0mload_bin_file\u001b[0m\u001b[0;34m(\u001b[0m\u001b[0mvelo_file\u001b[0m\u001b[0;34m)\u001b[0m\u001b[0;34m\u001b[0m\u001b[0;34m\u001b[0m\u001b[0m\n\u001b[0;32m----> 9\u001b[0;31m     \u001b[0mboxes\u001b[0m \u001b[0;34m=\u001b[0m \u001b[0mparse_label_file\u001b[0m\u001b[0;34m(\u001b[0m\u001b[0mlabel_file\u001b[0m\u001b[0;34m)\u001b[0m\u001b[0;34m\u001b[0m\u001b[0;34m\u001b[0m\u001b[0m\n\u001b[0m\u001b[1;32m     10\u001b[0m     \u001b[0mTr_velo_to_cam\u001b[0m\u001b[0;34m,\u001b[0m \u001b[0mR0_rect\u001b[0m \u001b[0;34m=\u001b[0m \u001b[0mload_calibration\u001b[0m\u001b[0;34m(\u001b[0m\u001b[0mcalib_file\u001b[0m\u001b[0;34m)\u001b[0m\u001b[0;34m\u001b[0m\u001b[0;34m\u001b[0m\u001b[0m\n\u001b[1;32m     11\u001b[0m     \u001b[0mTr_cam_to_velo\u001b[0m \u001b[0;34m=\u001b[0m \u001b[0minverse_transformation\u001b[0m\u001b[0;34m(\u001b[0m\u001b[0mTr_velo_to_cam\u001b[0m\u001b[0;34m)\u001b[0m\u001b[0;34m\u001b[0m\u001b[0;34m\u001b[0m\u001b[0m\n",
      "\u001b[0;32m/tmp/ipykernel_3636989/4107198346.py\u001b[0m in \u001b[0;36mparse_label_file\u001b[0;34m(label_path)\u001b[0m\n\u001b[1;32m     33\u001b[0m \u001b[0;32mdef\u001b[0m \u001b[0mparse_label_file\u001b[0m\u001b[0;34m(\u001b[0m\u001b[0mlabel_path\u001b[0m\u001b[0;34m)\u001b[0m\u001b[0;34m:\u001b[0m\u001b[0;34m\u001b[0m\u001b[0;34m\u001b[0m\u001b[0m\n\u001b[1;32m     34\u001b[0m     \u001b[0mboxes\u001b[0m \u001b[0;34m=\u001b[0m \u001b[0;34m[\u001b[0m\u001b[0;34m]\u001b[0m\u001b[0;34m\u001b[0m\u001b[0;34m\u001b[0m\u001b[0m\n\u001b[0;32m---> 35\u001b[0;31m     \u001b[0;32mwith\u001b[0m \u001b[0mopen\u001b[0m\u001b[0;34m(\u001b[0m\u001b[0mlabel_path\u001b[0m\u001b[0;34m,\u001b[0m \u001b[0;34m'r'\u001b[0m\u001b[0;34m)\u001b[0m \u001b[0;32mas\u001b[0m \u001b[0mf\u001b[0m\u001b[0;34m:\u001b[0m\u001b[0;34m\u001b[0m\u001b[0;34m\u001b[0m\u001b[0m\n\u001b[0m\u001b[1;32m     36\u001b[0m         \u001b[0;32mfor\u001b[0m \u001b[0mline\u001b[0m \u001b[0;32min\u001b[0m \u001b[0mf\u001b[0m\u001b[0;34m:\u001b[0m\u001b[0;34m\u001b[0m\u001b[0;34m\u001b[0m\u001b[0m\n\u001b[1;32m     37\u001b[0m             \u001b[0melements\u001b[0m \u001b[0;34m=\u001b[0m \u001b[0mline\u001b[0m\u001b[0;34m.\u001b[0m\u001b[0mstrip\u001b[0m\u001b[0;34m(\u001b[0m\u001b[0;34m)\u001b[0m\u001b[0;34m.\u001b[0m\u001b[0msplit\u001b[0m\u001b[0;34m(\u001b[0m\u001b[0;34m)\u001b[0m\u001b[0;34m\u001b[0m\u001b[0;34m\u001b[0m\u001b[0m\n",
      "\u001b[0;31mFileNotFoundError\u001b[0m: [Errno 2] No such file or directory: '/media/ssd3/lab/sypark/KITTI/object/2d_object/data_object_label_2/testing/label_2/000000.txt'"
     ]
    }
   ],
   "source": [
    "\n",
    "# 주요 경로 설정\n",
    "output_dir = '/media/ssd3/lab/jojeon/KITTI/data_spoofing/velodyne/training_delete'\n",
    "velo_dir = '/media/ssd3/lab/sypark/KITTI/object/2d_object/data_object_velodyne/training/velodyne'\n",
    "label_dir = '/media/ssd3/lab/sypark/KITTI/object/2d_object/data_object_label_2/training/label_2'\n",
    "calib_dir = '/media/ssd3/lab/sypark/KITTI/object/2d_object/data_object_calib/training/calib'\n",
    "\n",
    "\n",
    "# 파일 이름 자동 탐색 함수\n",
    "def get_all_file_names(velo_dir):\n",
    "    \"\"\"\n",
    "    지정된 디렉토리에서 .bin 파일 이름(확장자 제외)만 가져옴.\n",
    "    \"\"\"\n",
    "    file_names = [\n",
    "        os.path.splitext(f)[0]  # 확장자 제거\n",
    "        for f in os.listdir(velo_dir)\n",
    "        if f.endswith('.bin')  # .bin 파일만 필터링\n",
    "    ]\n",
    "    return sorted(file_names)  # 파일 이름 정렬 (예: 000000, 000001 순서)\n",
    "\n",
    "# 모든 .bin 파일 이름 가져오기\n",
    "file_names = get_all_file_names(velo_dir)\n",
    "\n",
    "# 각 파일 처리\n",
    "for file_name in file_names:\n",
    "    process_and_save_filtered_data(file_name, velo_dir, label_dir, calib_dir, output_dir, scale_factor=2.0)\n"
   ]
  },
  {
   "cell_type": "markdown",
   "metadata": {},
   "source": [
    "tracking파일 이용시 사용해야함"
   ]
  }
 ],
 "metadata": {
  "kernelspec": {
   "display_name": "nu37",
   "language": "python",
   "name": "python3"
  },
  "language_info": {
   "codemirror_mode": {
    "name": "ipython",
    "version": 3
   },
   "file_extension": ".py",
   "mimetype": "text/x-python",
   "name": "python",
   "nbconvert_exporter": "python",
   "pygments_lexer": "ipython3",
   "version": "3.7.17"
  }
 },
 "nbformat": 4,
 "nbformat_minor": 2
}
