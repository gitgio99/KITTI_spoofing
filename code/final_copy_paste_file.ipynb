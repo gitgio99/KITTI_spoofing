{
 "cells": [
  {
   "cell_type": "code",
   "execution_count": null,
   "metadata": {},
   "outputs": [
    {
     "name": "stdout",
     "output_type": "stream",
     "text": [
      "Paths and directories set successfully!\n"
     ]
    }
   ],
   "source": [
    "import numpy as np\n",
    "import os\n",
    "import random\n",
    "from multiprocessing import Pool\n",
    "\n",
    "# 경로 설정\n",
    "velo_base_path = '/media/ssd3/lab/sypark/KITTI/object/2d_object/data_object_velodyne/training/velodyne'  # 원본 데이터\n",
    "label_base_path = '/media/ssd3/lab/sypark/KITTI/object/2d_object/data_object_label_2/training/label_2'  # 레이블 파일\n",
    "calib_base_path = '/media/ssd3/lab/sypark/KITTI/object/2d_object/data_object_calib/training/calib'\n",
    "output_base_path = '/media/ssd3/lab/jojeon/KITTI/data_spoofing/velodyne/train_add'  # 저장 경로\n",
    "\n",
    "if not os.path.exists(output_base_path):\n",
    "    os.makedirs(output_base_path)\n",
    "\n",
    "print(\"Paths and directories set successfully!\")\n"
   ]
  },
  {
   "cell_type": "code",
   "execution_count": 2,
   "metadata": {},
   "outputs": [],
   "source": [
    "# .bin 파일을 읽는 함수\n",
    "def load_bin_file(file_path):\n",
    "    if os.path.exists(file_path):\n",
    "        return np.fromfile(file_path, dtype=np.float32).reshape(-1, 4)\n",
    "    else:\n",
    "        print(f\"LiDAR file not found: {file_path}\")\n",
    "        return None\n",
    "\n",
    "# Calibration 파일에서 변환 행렬 읽기\n",
    "def load_calibration(calib_path):\n",
    "    with open(calib_path, 'r') as f:\n",
    "        lines = f.readlines()\n",
    "\n",
    "    def extract_matrix(line):\n",
    "        return np.array(line.strip().split()[1:], dtype=np.float32).reshape(3, 4)\n",
    "\n",
    "    Tr_velo_to_cam = extract_matrix(lines[5])\n",
    "    R0_rect = np.array(lines[4].strip().split()[1:], dtype=np.float32).reshape(3, 3)\n",
    "    Tr_velo_to_cam = np.vstack((Tr_velo_to_cam, [0, 0, 0, 1]))\n",
    "    return Tr_velo_to_cam, R0_rect\n",
    "\n",
    "# Label 파일에서 박스 정보 파싱\n",
    "def parse_label_file(label_path):\n",
    "    boxes = []\n",
    "    with open(label_path, 'r') as f:\n",
    "        for line in f:\n",
    "            elements = line.strip().split()\n",
    "            if elements[0] == 'DontCare':\n",
    "                continue\n",
    "            height, length, width = map(float, elements[8:11])\n",
    "            x, y, z = map(float, elements[11:14])\n",
    "            rotation_y = float(elements[14])\n",
    "            boxes.append((x, y, z, length, width, height, rotation_y))\n",
    "    return boxes\n",
    "\n",
    "# 특정 Bounding Box 내부 포인트 필터링\n",
    "def filter_points_in_box(points, box, Tr_cam_to_velo, R0_rect_4x4, scale_factor=1.0):\n",
    "    x, y, z, length, width, height, rotation_y = box\n",
    "    length *= scale_factor\n",
    "    width *= scale_factor\n",
    "    height *= scale_factor\n",
    "\n",
    "    center_cam = np.array([x, y, z, 1])\n",
    "    center_lidar = Tr_cam_to_velo @ R0_rect_4x4 @ center_cam\n",
    "\n",
    "    rotation_matrix = np.array([\n",
    "        [np.cos(rotation_y), -np.sin(rotation_y), 0],\n",
    "        [np.sin(rotation_y), np.cos(rotation_y), 0],\n",
    "        [0, 0, 1]\n",
    "    ])\n",
    "\n",
    "    points_shifted = points[:, :3] - center_lidar[:3]\n",
    "    points_rotated = points_shifted @ rotation_matrix.T\n",
    "\n",
    "    mask = (\n",
    "        (np.abs(points_rotated[:, 0]) <= length / 2) &\n",
    "        (np.abs(points_rotated[:, 1]) <= width / 2) &\n",
    "        (points_rotated[:, 2] >= 0) & (points_rotated[:, 2] <= height)\n",
    "    )\n",
    "    return points[mask]\n",
    "\n",
    "# 포인트 복사 및 이동 함수\n",
    "def copy_and_translate_points(points, translation):\n",
    "    copied_points = points.copy()\n",
    "    copied_points[:, :3] += translation\n",
    "    return copied_points\n",
    "\n",
    "# 랜덤 이동 생성 함수\n",
    "def generate_forward_translation(range_x=(2, 10), range_y=(-2, 2), range_z=(-0.5, 0.5)):\n",
    "    return [\n",
    "        random.uniform(*range_x),  # X축 이동\n",
    "        random.uniform(*range_y),  # Y축 이동\n",
    "        random.uniform(*range_z)   # Z축 이동\n",
    "    ]"
   ]
  },
  {
   "cell_type": "code",
   "execution_count": 3,
   "metadata": {},
   "outputs": [],
   "source": [
    "# LiDAR 데이터 처리 및 저장\n",
    "def process_lidar_file(file_name):\n",
    "    velo_file = os.path.join(velo_base_path, f\"{file_name}.bin\")\n",
    "    label_file = os.path.join(label_base_path, f\"{file_name}.txt\")\n",
    "    calib_file = os.path.join(calib_base_path, f\"{file_name}.txt\")\n",
    "    output_dir = os.path.join(output_base_path, file_name)\n",
    "\n",
    "    # 출력 경로 생성\n",
    "    if not os.path.exists(output_dir):\n",
    "        os.makedirs(output_dir)\n",
    "\n",
    "    # 데이터 로드\n",
    "    points = load_bin_file(velo_file)\n",
    "    boxes = parse_label_file(label_file)\n",
    "    Tr_velo_to_cam, R0_rect = load_calibration(calib_file)\n",
    "\n",
    "    # 변환 행렬 계산\n",
    "    Tr_cam_to_velo = np.linalg.inv(Tr_velo_to_cam)\n",
    "    R0_rect_4x4 = np.vstack((np.hstack((R0_rect, np.zeros((3, 1)))), [0, 0, 0, 1]))\n",
    "\n",
    "    # 객체별 포인트 필터링 및 이동 후 저장\n",
    "    for i, box in enumerate(boxes):\n",
    "        filtered_points = filter_points_in_box(points, box, Tr_cam_to_velo, R0_rect_4x4, scale_factor=1.0)\n",
    "        if len(filtered_points) == 0:\n",
    "            continue\n",
    "\n",
    "        # 랜덤 이동 적용\n",
    "        translation = generate_forward_translation()\n",
    "        translated_points = copy_and_translate_points(filtered_points, translation)\n",
    "\n",
    "        # 파일 저장\n",
    "        output_file = os.path.join(output_dir, f\"{file_name}-{i+1}.bin\")\n",
    "        translated_points.tofile(output_file)\n",
    "        print(f\"Saved: {output_file}\")\n"
   ]
  },
  {
   "cell_type": "code",
   "execution_count": 5,
   "metadata": {},
   "outputs": [
    {
     "name": "stdout",
     "output_type": "stream",
     "text": [
      "Total files to process: 7481\n"
     ]
    },
    {
     "ename": "FileNotFoundError",
     "evalue": "[Errno 2] No such file or directory: '/media/ssd3/lab/sypark/KITTI/object/2d_object/label_2/005030.txt'",
     "output_type": "error",
     "traceback": [
      "\u001b[0;31m---------------------------------------------------------------------------\u001b[0m",
      "\u001b[0;31mRemoteTraceback\u001b[0m                           Traceback (most recent call last)",
      "\u001b[0;31mRemoteTraceback\u001b[0m: \n\"\"\"\nTraceback (most recent call last):\n  File \"/usr/lib/python3.7/multiprocessing/pool.py\", line 121, in worker\n    result = (True, func(*args, **kwds))\n  File \"/usr/lib/python3.7/multiprocessing/pool.py\", line 44, in mapstar\n    return list(map(*args))\n  File \"/tmp/ipykernel_9617/1051366799.py\", line 14, in process_lidar_file\n    boxes = parse_label_file(label_file)\n  File \"/tmp/ipykernel_9617/1065210045.py\", line 25, in parse_label_file\n    with open(label_path, 'r') as f:\nFileNotFoundError: [Errno 2] No such file or directory: '/media/ssd3/lab/sypark/KITTI/object/2d_object/label_2/005030.txt'\n\"\"\"",
      "\nThe above exception was the direct cause of the following exception:\n",
      "\u001b[0;31mFileNotFoundError\u001b[0m                         Traceback (most recent call last)",
      "\u001b[0;32m/tmp/ipykernel_9617/2804907841.py\u001b[0m in \u001b[0;36m<module>\u001b[0;34m\u001b[0m\n\u001b[1;32m     12\u001b[0m     \u001b[0mstart_time\u001b[0m \u001b[0;34m=\u001b[0m \u001b[0mtime\u001b[0m\u001b[0;34m.\u001b[0m\u001b[0mtime\u001b[0m\u001b[0;34m(\u001b[0m\u001b[0;34m)\u001b[0m\u001b[0;34m\u001b[0m\u001b[0;34m\u001b[0m\u001b[0m\n\u001b[1;32m     13\u001b[0m     \u001b[0;32mwith\u001b[0m \u001b[0mPool\u001b[0m\u001b[0;34m(\u001b[0m\u001b[0mprocesses\u001b[0m\u001b[0;34m=\u001b[0m\u001b[0;36m100\u001b[0m\u001b[0;34m)\u001b[0m \u001b[0;32mas\u001b[0m \u001b[0mpool\u001b[0m\u001b[0;34m:\u001b[0m  \u001b[0;31m# 프로세스 수 설정\u001b[0m\u001b[0;34m\u001b[0m\u001b[0;34m\u001b[0m\u001b[0m\n\u001b[0;32m---> 14\u001b[0;31m         \u001b[0mpool\u001b[0m\u001b[0;34m.\u001b[0m\u001b[0mmap\u001b[0m\u001b[0;34m(\u001b[0m\u001b[0mprocess_lidar_file\u001b[0m\u001b[0;34m,\u001b[0m \u001b[0mlidar_files\u001b[0m\u001b[0;34m)\u001b[0m\u001b[0;34m\u001b[0m\u001b[0;34m\u001b[0m\u001b[0m\n\u001b[0m\u001b[1;32m     15\u001b[0m \u001b[0;34m\u001b[0m\u001b[0m\n\u001b[1;32m     16\u001b[0m     \u001b[0mprint\u001b[0m\u001b[0;34m(\u001b[0m\u001b[0;34mf\"All files processed in {time.time() - start_time:.2f} seconds.\"\u001b[0m\u001b[0;34m)\u001b[0m\u001b[0;34m\u001b[0m\u001b[0;34m\u001b[0m\u001b[0m\n",
      "\u001b[0;32m/usr/lib/python3.7/multiprocessing/pool.py\u001b[0m in \u001b[0;36mmap\u001b[0;34m(self, func, iterable, chunksize)\u001b[0m\n\u001b[1;32m    266\u001b[0m         \u001b[0;32min\u001b[0m \u001b[0ma\u001b[0m \u001b[0mlist\u001b[0m \u001b[0mthat\u001b[0m \u001b[0;32mis\u001b[0m \u001b[0mreturned\u001b[0m\u001b[0;34m.\u001b[0m\u001b[0;34m\u001b[0m\u001b[0;34m\u001b[0m\u001b[0m\n\u001b[1;32m    267\u001b[0m         '''\n\u001b[0;32m--> 268\u001b[0;31m         \u001b[0;32mreturn\u001b[0m \u001b[0mself\u001b[0m\u001b[0;34m.\u001b[0m\u001b[0m_map_async\u001b[0m\u001b[0;34m(\u001b[0m\u001b[0mfunc\u001b[0m\u001b[0;34m,\u001b[0m \u001b[0miterable\u001b[0m\u001b[0;34m,\u001b[0m \u001b[0mmapstar\u001b[0m\u001b[0;34m,\u001b[0m \u001b[0mchunksize\u001b[0m\u001b[0;34m)\u001b[0m\u001b[0;34m.\u001b[0m\u001b[0mget\u001b[0m\u001b[0;34m(\u001b[0m\u001b[0;34m)\u001b[0m\u001b[0;34m\u001b[0m\u001b[0;34m\u001b[0m\u001b[0m\n\u001b[0m\u001b[1;32m    269\u001b[0m \u001b[0;34m\u001b[0m\u001b[0m\n\u001b[1;32m    270\u001b[0m     \u001b[0;32mdef\u001b[0m \u001b[0mstarmap\u001b[0m\u001b[0;34m(\u001b[0m\u001b[0mself\u001b[0m\u001b[0;34m,\u001b[0m \u001b[0mfunc\u001b[0m\u001b[0;34m,\u001b[0m \u001b[0miterable\u001b[0m\u001b[0;34m,\u001b[0m \u001b[0mchunksize\u001b[0m\u001b[0;34m=\u001b[0m\u001b[0;32mNone\u001b[0m\u001b[0;34m)\u001b[0m\u001b[0;34m:\u001b[0m\u001b[0;34m\u001b[0m\u001b[0;34m\u001b[0m\u001b[0m\n",
      "\u001b[0;32m/usr/lib/python3.7/multiprocessing/pool.py\u001b[0m in \u001b[0;36mget\u001b[0;34m(self, timeout)\u001b[0m\n\u001b[1;32m    655\u001b[0m             \u001b[0;32mreturn\u001b[0m \u001b[0mself\u001b[0m\u001b[0;34m.\u001b[0m\u001b[0m_value\u001b[0m\u001b[0;34m\u001b[0m\u001b[0;34m\u001b[0m\u001b[0m\n\u001b[1;32m    656\u001b[0m         \u001b[0;32melse\u001b[0m\u001b[0;34m:\u001b[0m\u001b[0;34m\u001b[0m\u001b[0;34m\u001b[0m\u001b[0m\n\u001b[0;32m--> 657\u001b[0;31m             \u001b[0;32mraise\u001b[0m \u001b[0mself\u001b[0m\u001b[0;34m.\u001b[0m\u001b[0m_value\u001b[0m\u001b[0;34m\u001b[0m\u001b[0;34m\u001b[0m\u001b[0m\n\u001b[0m\u001b[1;32m    658\u001b[0m \u001b[0;34m\u001b[0m\u001b[0m\n\u001b[1;32m    659\u001b[0m     \u001b[0;32mdef\u001b[0m \u001b[0m_set\u001b[0m\u001b[0;34m(\u001b[0m\u001b[0mself\u001b[0m\u001b[0;34m,\u001b[0m \u001b[0mi\u001b[0m\u001b[0;34m,\u001b[0m \u001b[0mobj\u001b[0m\u001b[0;34m)\u001b[0m\u001b[0;34m:\u001b[0m\u001b[0;34m\u001b[0m\u001b[0;34m\u001b[0m\u001b[0m\n",
      "\u001b[0;31mFileNotFoundError\u001b[0m: [Errno 2] No such file or directory: '/media/ssd3/lab/sypark/KITTI/object/2d_object/label_2/005030.txt'"
     ]
    }
   ],
   "source": [
    "from multiprocessing import Pool\n",
    "\n",
    "if __name__ == \"__main__\":\n",
    "    import glob\n",
    "    import time\n",
    "\n",
    "    # 파일 리스트 로드\n",
    "    lidar_files = [os.path.basename(f).split(\".\")[0] for f in glob.glob(os.path.join(velo_base_path, \"*.bin\"))]\n",
    "    print(f\"Total files to process: {len(lidar_files)}\")\n",
    "\n",
    "    # 멀티프로세싱 실행\n",
    "    start_time = time.time()\n",
    "    with Pool(processes=100) as pool:  # 프로세스 수 설정\n",
    "        pool.map(process_lidar_file, lidar_files)\n",
    "\n",
    "    print(f\"All files processed in {time.time() - start_time:.2f} seconds.\")\n"
   ]
  }
 ],
 "metadata": {
  "kernelspec": {
   "display_name": "nu37",
   "language": "python",
   "name": "python3"
  },
  "language_info": {
   "codemirror_mode": {
    "name": "ipython",
    "version": 3
   },
   "file_extension": ".py",
   "mimetype": "text/x-python",
   "name": "python",
   "nbconvert_exporter": "python",
   "pygments_lexer": "ipython3",
   "version": "3.7.17"
  }
 },
 "nbformat": 4,
 "nbformat_minor": 2
}
